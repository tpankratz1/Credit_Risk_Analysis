{
 "cells": [
  {
   "cell_type": "code",
   "execution_count": 24,
   "id": "7a1079e1",
   "metadata": {},
   "outputs": [],
   "source": [
    "import matplotlib.pyplot as plt\n",
    "import pandas as pd\n",
    "import numpy as np\n",
    "%matplotlib inline\n",
    "\n",
    "from sklearn.datasets import make_regression"
   ]
  },
  {
   "cell_type": "code",
   "execution_count": 32,
   "id": "b48479aa",
   "metadata": {},
   "outputs": [],
   "source": [
    "X,y = make_regression(n_samples=20, n_features=1, random_state=1, noise=4, bias=100.0) # uni-variate, because there's only one x\n",
    "\n",
    "# X is features; independent variables\n",
    "# y is target; dependent variable"
   ]
  },
  {
   "cell_type": "code",
   "execution_count": 3,
   "id": "7b51e628",
   "metadata": {},
   "outputs": [
    {
     "data": {
      "text/plain": [
       "<matplotlib.collections.PathCollection at 0x7f7ed829b250>"
      ]
     },
     "execution_count": 3,
     "metadata": {},
     "output_type": "execute_result"
    },
    {
     "data": {
      "image/png": "[encoded data removed]",
      "text/plain": [
       "<Figure size 432x288 with 1 Axes>"
      ]
     },
     "metadata": {
      "needs_background": "light"
     },
     "output_type": "display_data"
    }
   ],
   "source": [
    "plt.scatter(X,y)"
   ]
  },
  {
   "cell_type": "code",
   "execution_count": 11,
   "id": "3cde2c72",
   "metadata": {},
   "outputs": [],
   "source": [
    "# model, fit, predict (true for ML, except for time series, where it's forecast instead of predict)\n",
    "\n",
    "from sklearn.linear_model import LinearRegression\n",
    "\n",
    "model_lr = LinearRegression()\n",
    "\n",
    "# regressor (continuous)\n",
    "# classifier (discrete) = countable (separate things)"
   ]
  },
  {
   "cell_type": "code",
   "execution_count": 12,
   "id": "16aa6e58",
   "metadata": {},
   "outputs": [
    {
     "data": {
      "text/plain": [
       "LinearRegression()"
      ]
     },
     "execution_count": 12,
     "metadata": {},
     "output_type": "execute_result"
    }
   ],
   "source": [
    "model_lr.fit(X,y)"
   ]
  },
  {
   "cell_type": "code",
   "execution_count": 17,
   "id": "d0e814e9",
   "metadata": {},
   "outputs": [],
   "source": [
    "B0 = model_lr.intercept_"
   ]
  },
  {
   "cell_type": "code",
   "execution_count": 18,
   "id": "5e896d21",
   "metadata": {},
   "outputs": [],
   "source": [
    "B1 = model_lr.coef_[0]"
   ]
  },
  {
   "cell_type": "code",
   "execution_count": 19,
   "id": "12825bf5",
   "metadata": {},
   "outputs": [],
   "source": [
    "# y = B0 + B1 * x"
   ]
  },
  {
   "cell_type": "code",
   "execution_count": null,
   "id": "897b4471",
   "metadata": {},
   "outputs": [],
   "source": [
    "model_lr.predict()"
   ]
  },
  {
   "cell_type": "code",
   "execution_count": 20,
   "id": "578cd3d6",
   "metadata": {},
   "outputs": [],
   "source": [
    "y_pred = model_lr.predict(X) # predictions == y_pred == pred_y"
   ]
  },
  {
   "cell_type": "code",
   "execution_count": 21,
   "id": "99a108e8",
   "metadata": {},
   "outputs": [
    {
     "data": {
      "text/plain": [
       "array([177.83234243,  22.58234171, 139.53841354,  46.12250961,\n",
       "        81.69757282, 200.65342324,  87.04541798, -44.15954346,\n",
       "        62.31955638,  76.62047219, -60.93784715, 159.17992513,\n",
       "       220.30267846, 101.96405062, 121.20472379, 211.92969295,\n",
       "        24.45359308,  72.33639823,  38.01467656,  56.51002645])"
      ]
     },
     "execution_count": 21,
     "metadata": {},
     "output_type": "execute_result"
    }
   ],
   "source": [
    "y_pred"
   ]
  },
  {
   "cell_type": "code",
   "execution_count": 27,
   "id": "c2b43f5b",
   "metadata": {},
   "outputs": [
    {
     "data": {
      "text/html": [
       "<div>\n",
       "<style scoped>\n",
       "    .dataframe tbody tr th:only-of-type {\n",
       "        vertical-align: middle;\n",
       "    }\n",
       "\n",
       "    .dataframe tbody tr th {\n",
       "        vertical-align: top;\n",
       "    }\n",
       "\n",
       "    .dataframe thead th {\n",
       "        text-align: right;\n",
       "    }\n",
       "</style>\n",
       "<table border=\"1\" class=\"dataframe\">\n",
       "  <thead>\n",
       "    <tr style=\"text-align: right;\">\n",
       "      <th></th>\n",
       "      <th>predicted</th>\n",
       "      <th>actual</th>\n",
       "      <th>error</th>\n",
       "    </tr>\n",
       "  </thead>\n",
       "  <tbody>\n",
       "    <tr>\n",
       "      <th>0</th>\n",
       "      <td>177.832342</td>\n",
       "      <td>178.855565</td>\n",
       "      <td>-1.023223</td>\n",
       "    </tr>\n",
       "    <tr>\n",
       "      <th>1</th>\n",
       "      <td>22.582342</td>\n",
       "      <td>21.414373</td>\n",
       "      <td>1.167969</td>\n",
       "    </tr>\n",
       "    <tr>\n",
       "      <th>2</th>\n",
       "      <td>139.538414</td>\n",
       "      <td>141.549300</td>\n",
       "      <td>-2.010887</td>\n",
       "    </tr>\n",
       "    <tr>\n",
       "      <th>3</th>\n",
       "      <td>46.122510</td>\n",
       "      <td>46.888303</td>\n",
       "      <td>-0.765794</td>\n",
       "    </tr>\n",
       "    <tr>\n",
       "      <th>4</th>\n",
       "      <td>81.697573</td>\n",
       "      <td>78.708715</td>\n",
       "      <td>2.988858</td>\n",
       "    </tr>\n",
       "    <tr>\n",
       "      <th>5</th>\n",
       "      <td>200.653423</td>\n",
       "      <td>196.926876</td>\n",
       "      <td>3.726548</td>\n",
       "    </tr>\n",
       "    <tr>\n",
       "      <th>6</th>\n",
       "      <td>87.045418</td>\n",
       "      <td>89.172959</td>\n",
       "      <td>-2.127541</td>\n",
       "    </tr>\n",
       "    <tr>\n",
       "      <th>7</th>\n",
       "      <td>-44.159543</td>\n",
       "      <td>-39.911285</td>\n",
       "      <td>-4.248259</td>\n",
       "    </tr>\n",
       "    <tr>\n",
       "      <th>8</th>\n",
       "      <td>62.319556</td>\n",
       "      <td>60.056796</td>\n",
       "      <td>2.262761</td>\n",
       "    </tr>\n",
       "    <tr>\n",
       "      <th>9</th>\n",
       "      <td>76.620472</td>\n",
       "      <td>77.442725</td>\n",
       "      <td>-0.822253</td>\n",
       "    </tr>\n",
       "    <tr>\n",
       "      <th>10</th>\n",
       "      <td>-60.937847</td>\n",
       "      <td>-58.604136</td>\n",
       "      <td>-2.333712</td>\n",
       "    </tr>\n",
       "    <tr>\n",
       "      <th>11</th>\n",
       "      <td>159.179925</td>\n",
       "      <td>159.005901</td>\n",
       "      <td>0.174025</td>\n",
       "    </tr>\n",
       "    <tr>\n",
       "      <th>12</th>\n",
       "      <td>220.302678</td>\n",
       "      <td>224.213206</td>\n",
       "      <td>-3.910527</td>\n",
       "    </tr>\n",
       "    <tr>\n",
       "      <th>13</th>\n",
       "      <td>101.964051</td>\n",
       "      <td>100.480732</td>\n",
       "      <td>1.483319</td>\n",
       "    </tr>\n",
       "    <tr>\n",
       "      <th>14</th>\n",
       "      <td>121.204724</td>\n",
       "      <td>117.921430</td>\n",
       "      <td>3.283294</td>\n",
       "    </tr>\n",
       "    <tr>\n",
       "      <th>15</th>\n",
       "      <td>211.929693</td>\n",
       "      <td>216.952508</td>\n",
       "      <td>-5.022815</td>\n",
       "    </tr>\n",
       "    <tr>\n",
       "      <th>16</th>\n",
       "      <td>24.453593</td>\n",
       "      <td>29.607037</td>\n",
       "      <td>-5.153444</td>\n",
       "    </tr>\n",
       "    <tr>\n",
       "      <th>17</th>\n",
       "      <td>72.336398</td>\n",
       "      <td>66.473541</td>\n",
       "      <td>5.862857</td>\n",
       "    </tr>\n",
       "    <tr>\n",
       "      <th>18</th>\n",
       "      <td>38.014677</td>\n",
       "      <td>34.900286</td>\n",
       "      <td>3.114391</td>\n",
       "    </tr>\n",
       "    <tr>\n",
       "      <th>19</th>\n",
       "      <td>56.510026</td>\n",
       "      <td>53.155593</td>\n",
       "      <td>3.354433</td>\n",
       "    </tr>\n",
       "  </tbody>\n",
       "</table>\n",
       "</div>"
      ],
      "text/plain": [
       "     predicted      actual     error\n",
       "0   177.832342  178.855565 -1.023223\n",
       "1    22.582342   21.414373  1.167969\n",
       "2   139.538414  141.549300 -2.010887\n",
       "3    46.122510   46.888303 -0.765794\n",
       "4    81.697573   78.708715  2.988858\n",
       "5   200.653423  196.926876  3.726548\n",
       "6    87.045418   89.172959 -2.127541\n",
       "7   -44.159543  -39.911285 -4.248259\n",
       "8    62.319556   60.056796  2.262761\n",
       "9    76.620472   77.442725 -0.822253\n",
       "10  -60.937847  -58.604136 -2.333712\n",
       "11  159.179925  159.005901  0.174025\n",
       "12  220.302678  224.213206 -3.910527\n",
       "13  101.964051  100.480732  1.483319\n",
       "14  121.204724  117.921430  3.283294\n",
       "15  211.929693  216.952508 -5.022815\n",
       "16   24.453593   29.607037 -5.153444\n",
       "17   72.336398   66.473541  5.862857\n",
       "18   38.014677   34.900286  3.114391\n",
       "19   56.510026   53.155593  3.354433"
      ]
     },
     "execution_count": 27,
     "metadata": {},
     "output_type": "execute_result"
    }
   ],
   "source": [
    "pd.DataFrame({\n",
    "    \"predicted\":y_pred,\n",
    "    \"actual\":y,\n",
    "    \"error\":y_pred - y\n",
    "})"
   ]
  },
  {
   "cell_type": "code",
   "execution_count": 29,
   "id": "c3962518",
   "metadata": {},
   "outputs": [],
   "source": [
    "R2 = model_lr.score(X,y)"
   ]
  },
  {
   "cell_type": "code",
   "execution_count": 30,
   "id": "ab0ccf71",
   "metadata": {},
   "outputs": [
    {
     "data": {
      "text/plain": [
       "0.9982993113027321"
      ]
     },
     "execution_count": 30,
     "metadata": {},
     "output_type": "execute_result"
    }
   ],
   "source": [
    "R2"
   ]
  },
  {
   "cell_type": "code",
   "execution_count": 31,
   "id": "0de2f0c2",
   "metadata": {},
   "outputs": [],
   "source": [
    "# R2 = how well the line fits the data"
   ]
  },
  {
   "cell_type": "code",
   "execution_count": 33,
   "id": "d548c4a2",
   "metadata": {},
   "outputs": [],
   "source": [
    "# California Housing"
   ]
  },
  {
   "cell_type": "code",
   "execution_count": 34,
   "id": "7ce09865",
   "metadata": {},
   "outputs": [],
   "source": [
    "from sklearn.datasets import fetch_california_housing"
   ]
  },
  {
   "cell_type": "code",
   "execution_count": 35,
   "id": "5cb25d68",
   "metadata": {},
   "outputs": [],
   "source": [
    "X,y = fetch_california_housing(return_X_y=True)"
   ]
  },
  {
   "cell_type": "code",
   "execution_count": 36,
   "id": "15ba490b",
   "metadata": {},
   "outputs": [
    {
     "data": {
      "text/plain": [
       "array([[   8.3252    ,   41.        ,    6.98412698, ...,    2.55555556,\n",
       "          37.88      , -122.23      ],\n",
       "       [   8.3014    ,   21.        ,    6.23813708, ...,    2.10984183,\n",
       "          37.86      , -122.22      ],\n",
       "       [   7.2574    ,   52.        ,    8.28813559, ...,    2.80225989,\n",
       "          37.85      , -122.24      ],\n",
       "       ...,\n",
       "       [   1.7       ,   17.        ,    5.20554273, ...,    2.3256351 ,\n",
       "          39.43      , -121.22      ],\n",
       "       [   1.8672    ,   18.        ,    5.32951289, ...,    2.12320917,\n",
       "          39.43      , -121.32      ],\n",
       "       [   2.3886    ,   16.        ,    5.25471698, ...,    2.61698113,\n",
       "          39.37      , -121.24      ]])"
      ]
     },
     "execution_count": 36,
     "metadata": {},
     "output_type": "execute_result"
    }
   ],
   "source": [
    "X"
   ]
  },
  {
   "cell_type": "code",
   "execution_count": 39,
   "id": "b8b9230b",
   "metadata": {},
   "outputs": [],
   "source": [
    "med_income = np.array([a[0] for a in X]).reshape(-1,1)"
   ]
  },
  {
   "cell_type": "code",
   "execution_count": 40,
   "id": "2a582d39",
   "metadata": {},
   "outputs": [],
   "source": [
    "from sklearn.linear_model import LinearRegression\n",
    "\n",
    "model_lr = LinearRegression()"
   ]
  },
  {
   "cell_type": "code",
   "execution_count": 41,
   "id": "6f168259",
   "metadata": {},
   "outputs": [
    {
     "data": {
      "text/plain": [
       "LinearRegression()"
      ]
     },
     "execution_count": 41,
     "metadata": {},
     "output_type": "execute_result"
    }
   ],
   "source": [
    "model_lr.fit(X,y)"
   ]
  },
  {
   "cell_type": "code",
   "execution_count": 42,
   "id": "e97649b1",
   "metadata": {},
   "outputs": [
    {
     "data": {
      "text/plain": [
       "-36.941920207184516"
      ]
     },
     "execution_count": 42,
     "metadata": {},
     "output_type": "execute_result"
    }
   ],
   "source": [
    "model_lr.intercept_"
   ]
  },
  {
   "cell_type": "code",
   "execution_count": 43,
   "id": "0f22b1fe",
   "metadata": {},
   "outputs": [
    {
     "data": {
      "text/plain": [
       "array([ 4.36693293e-01,  9.43577803e-03, -1.07322041e-01,  6.45065694e-01,\n",
       "       -3.97638942e-06, -3.78654265e-03, -4.21314378e-01, -4.34513755e-01])"
      ]
     },
     "execution_count": 43,
     "metadata": {},
     "output_type": "execute_result"
    }
   ],
   "source": [
    "model_lr.coef_"
   ]
  },
  {
   "cell_type": "code",
   "execution_count": 47,
   "id": "8a2277db",
   "metadata": {},
   "outputs": [],
   "source": [
    "y_pred = model_lr.predict(X)"
   ]
  },
  {
   "cell_type": "code",
   "execution_count": 48,
   "id": "f25dab4a",
   "metadata": {},
   "outputs": [
    {
     "data": {
      "text/html": [
       "<div>\n",
       "<style scoped>\n",
       "    .dataframe tbody tr th:only-of-type {\n",
       "        vertical-align: middle;\n",
       "    }\n",
       "\n",
       "    .dataframe tbody tr th {\n",
       "        vertical-align: top;\n",
       "    }\n",
       "\n",
       "    .dataframe thead th {\n",
       "        text-align: right;\n",
       "    }\n",
       "</style>\n",
       "<table border=\"1\" class=\"dataframe\">\n",
       "  <thead>\n",
       "    <tr style=\"text-align: right;\">\n",
       "      <th></th>\n",
       "      <th>predicted</th>\n",
       "      <th>actual</th>\n",
       "      <th>error</th>\n",
       "    </tr>\n",
       "  </thead>\n",
       "  <tbody>\n",
       "    <tr>\n",
       "      <th>0</th>\n",
       "      <td>4.131650</td>\n",
       "      <td>4.526</td>\n",
       "      <td>-0.394350</td>\n",
       "    </tr>\n",
       "    <tr>\n",
       "      <th>1</th>\n",
       "      <td>3.976606</td>\n",
       "      <td>3.585</td>\n",
       "      <td>0.391606</td>\n",
       "    </tr>\n",
       "    <tr>\n",
       "      <th>2</th>\n",
       "      <td>3.676571</td>\n",
       "      <td>3.521</td>\n",
       "      <td>0.155571</td>\n",
       "    </tr>\n",
       "    <tr>\n",
       "      <th>3</th>\n",
       "      <td>3.241598</td>\n",
       "      <td>3.413</td>\n",
       "      <td>-0.171402</td>\n",
       "    </tr>\n",
       "    <tr>\n",
       "      <th>4</th>\n",
       "      <td>2.413587</td>\n",
       "      <td>3.422</td>\n",
       "      <td>-1.008413</td>\n",
       "    </tr>\n",
       "    <tr>\n",
       "      <th>...</th>\n",
       "      <td>...</td>\n",
       "      <td>...</td>\n",
       "      <td>...</td>\n",
       "    </tr>\n",
       "    <tr>\n",
       "      <th>20635</th>\n",
       "      <td>0.133656</td>\n",
       "      <td>0.781</td>\n",
       "      <td>-0.647344</td>\n",
       "    </tr>\n",
       "    <tr>\n",
       "      <th>20636</th>\n",
       "      <td>0.553528</td>\n",
       "      <td>0.771</td>\n",
       "      <td>-0.217472</td>\n",
       "    </tr>\n",
       "    <tr>\n",
       "      <th>20637</th>\n",
       "      <td>0.171251</td>\n",
       "      <td>0.923</td>\n",
       "      <td>-0.751749</td>\n",
       "    </tr>\n",
       "    <tr>\n",
       "      <th>20638</th>\n",
       "      <td>0.319105</td>\n",
       "      <td>0.847</td>\n",
       "      <td>-0.527895</td>\n",
       "    </tr>\n",
       "    <tr>\n",
       "      <th>20639</th>\n",
       "      <td>0.515804</td>\n",
       "      <td>0.894</td>\n",
       "      <td>-0.378196</td>\n",
       "    </tr>\n",
       "  </tbody>\n",
       "</table>\n",
       "<p>20640 rows × 3 columns</p>\n",
       "</div>"
      ],
      "text/plain": [
       "       predicted  actual     error\n",
       "0       4.131650   4.526 -0.394350\n",
       "1       3.976606   3.585  0.391606\n",
       "2       3.676571   3.521  0.155571\n",
       "3       3.241598   3.413 -0.171402\n",
       "4       2.413587   3.422 -1.008413\n",
       "...          ...     ...       ...\n",
       "20635   0.133656   0.781 -0.647344\n",
       "20636   0.553528   0.771 -0.217472\n",
       "20637   0.171251   0.923 -0.751749\n",
       "20638   0.319105   0.847 -0.527895\n",
       "20639   0.515804   0.894 -0.378196\n",
       "\n",
       "[20640 rows x 3 columns]"
      ]
     },
     "execution_count": 48,
     "metadata": {},
     "output_type": "execute_result"
    }
   ],
   "source": [
    "pd.DataFrame({\n",
    "    \"predicted\":y_pred,\n",
    "    \"actual\":y,\n",
    "    \"error\":y_pred - y\n",
    "})"
   ]
  },
  {
   "cell_type": "code",
   "execution_count": 49,
   "id": "ba2ac37a",
   "metadata": {},
   "outputs": [],
   "source": [
    "# 70 training, 10 validation (while you were in the training for the 70), 20 test"
   ]
  },
  {
   "cell_type": "code",
   "execution_count": 50,
   "id": "12af3d48",
   "metadata": {},
   "outputs": [],
   "source": [
    "# split the data to train and test"
   ]
  },
  {
   "cell_type": "code",
   "execution_count": 53,
   "id": "49563abe",
   "metadata": {},
   "outputs": [],
   "source": [
    "from sklearn.model_selection import train_test_split"
   ]
  },
  {
   "cell_type": "code",
   "execution_count": 55,
   "id": "64d9fc63",
   "metadata": {},
   "outputs": [],
   "source": [
    "X_train, X_test, y_train, y_test = train_test_split(X, y, random_state=1)"
   ]
  },
  {
   "cell_type": "code",
   "execution_count": 56,
   "id": "d272c1c4",
   "metadata": {},
   "outputs": [],
   "source": [
    "from sklearn.linear_model import LinearRegression\n",
    "\n",
    "model_lr = LinearRegression()"
   ]
  },
  {
   "cell_type": "code",
   "execution_count": 61,
   "id": "5e8ffbf1",
   "metadata": {},
   "outputs": [
    {
     "data": {
      "text/plain": [
       "LinearRegression()"
      ]
     },
     "execution_count": 61,
     "metadata": {},
     "output_type": "execute_result"
    }
   ],
   "source": [
    "model_lr.fit(X_train, y_train) # default is 75% on train, 25% on test, no validation"
   ]
  },
  {
   "cell_type": "code",
   "execution_count": 62,
   "id": "4e45dd45",
   "metadata": {},
   "outputs": [
    {
     "data": {
      "text/plain": [
       "0.6102859678113064"
      ]
     },
     "execution_count": 62,
     "metadata": {},
     "output_type": "execute_result"
    }
   ],
   "source": [
    "model_lr.score(X_train, y_train)"
   ]
  },
  {
   "cell_type": "code",
   "execution_count": 63,
   "id": "0d17298b",
   "metadata": {},
   "outputs": [
    {
     "data": {
      "text/plain": [
       "0.5929869285760033"
      ]
     },
     "execution_count": 63,
     "metadata": {},
     "output_type": "execute_result"
    }
   ],
   "source": [
    "model_lr.score(X_test, y_test)"
   ]
  },
  {
   "cell_type": "code",
   "execution_count": 84,
   "id": "d950a2c8",
   "metadata": {},
   "outputs": [],
   "source": [
    "from sklearn.metrics import mean_absolute_error, r2_score, mean_squared_error"
   ]
  },
  {
   "cell_type": "code",
   "execution_count": 85,
   "id": "cfe669fb",
   "metadata": {},
   "outputs": [],
   "source": [
    "y_pred = model_lr.predict(X_test)"
   ]
  },
  {
   "cell_type": "code",
   "execution_count": 86,
   "id": "f985bc05",
   "metadata": {},
   "outputs": [
    {
     "data": {
      "text/plain": [
       "59665.23907372321"
      ]
     },
     "execution_count": 86,
     "metadata": {},
     "output_type": "execute_result"
    }
   ],
   "source": [
    "mean_squared_error(y_test, y_pred)"
   ]
  },
  {
   "cell_type": "code",
   "execution_count": 87,
   "id": "b302ed5a",
   "metadata": {},
   "outputs": [
    {
     "data": {
      "text/plain": [
       "0.5828927633087315"
      ]
     },
     "execution_count": 87,
     "metadata": {},
     "output_type": "execute_result"
    }
   ],
   "source": [
    "r2_score(y_test, y_pred)"
   ]
  },
  {
   "cell_type": "code",
   "execution_count": 88,
   "id": "6c468978",
   "metadata": {},
   "outputs": [
    {
     "data": {
      "text/plain": [
       "0.5828927633087315"
      ]
     },
     "execution_count": 88,
     "metadata": {},
     "output_type": "execute_result"
    }
   ],
   "source": [
    "model_lr.score(X_test, y_test)"
   ]
  },
  {
   "cell_type": "code",
   "execution_count": 89,
   "id": "2c0baed3",
   "metadata": {},
   "outputs": [],
   "source": [
    "# Brain Dataset"
   ]
  },
  {
   "cell_type": "code",
   "execution_count": 90,
   "id": "e4f4f860",
   "metadata": {},
   "outputs": [],
   "source": [
    "brain_df = pd.read_csv(\"brain.csv\")"
   ]
  },
  {
   "cell_type": "code",
   "execution_count": 91,
   "id": "09a51b9e",
   "metadata": {},
   "outputs": [
    {
     "data": {
      "text/html": [
       "<div>\n",
       "<style scoped>\n",
       "    .dataframe tbody tr th:only-of-type {\n",
       "        vertical-align: middle;\n",
       "    }\n",
       "\n",
       "    .dataframe tbody tr th {\n",
       "        vertical-align: top;\n",
       "    }\n",
       "\n",
       "    .dataframe thead th {\n",
       "        text-align: right;\n",
       "    }\n",
       "</style>\n",
       "<table border=\"1\" class=\"dataframe\">\n",
       "  <thead>\n",
       "    <tr style=\"text-align: right;\">\n",
       "      <th></th>\n",
       "      <th>gender</th>\n",
       "      <th>age</th>\n",
       "      <th>size</th>\n",
       "      <th>weight</th>\n",
       "    </tr>\n",
       "  </thead>\n",
       "  <tbody>\n",
       "    <tr>\n",
       "      <th>0</th>\n",
       "      <td>1</td>\n",
       "      <td>1</td>\n",
       "      <td>4512</td>\n",
       "      <td>1530</td>\n",
       "    </tr>\n",
       "    <tr>\n",
       "      <th>1</th>\n",
       "      <td>1</td>\n",
       "      <td>1</td>\n",
       "      <td>3738</td>\n",
       "      <td>1297</td>\n",
       "    </tr>\n",
       "    <tr>\n",
       "      <th>2</th>\n",
       "      <td>1</td>\n",
       "      <td>1</td>\n",
       "      <td>4261</td>\n",
       "      <td>1335</td>\n",
       "    </tr>\n",
       "    <tr>\n",
       "      <th>3</th>\n",
       "      <td>1</td>\n",
       "      <td>1</td>\n",
       "      <td>3777</td>\n",
       "      <td>1282</td>\n",
       "    </tr>\n",
       "    <tr>\n",
       "      <th>4</th>\n",
       "      <td>1</td>\n",
       "      <td>1</td>\n",
       "      <td>4177</td>\n",
       "      <td>1590</td>\n",
       "    </tr>\n",
       "  </tbody>\n",
       "</table>\n",
       "</div>"
      ],
      "text/plain": [
       "   gender  age  size  weight\n",
       "0       1    1  4512    1530\n",
       "1       1    1  3738    1297\n",
       "2       1    1  4261    1335\n",
       "3       1    1  3777    1282\n",
       "4       1    1  4177    1590"
      ]
     },
     "execution_count": 91,
     "metadata": {},
     "output_type": "execute_result"
    }
   ],
   "source": [
    "brain_df.head()"
   ]
  },
  {
   "cell_type": "code",
   "execution_count": 92,
   "id": "d2884e1d",
   "metadata": {},
   "outputs": [],
   "source": [
    "X = brain_df[\"weight\"].values.reshape(-1,1)\n",
    "\n",
    "y = brain_df[\"size\"].values.reshape(-1,1)"
   ]
  },
  {
   "cell_type": "code",
   "execution_count": 93,
   "id": "686e208c",
   "metadata": {},
   "outputs": [
    {
     "data": {
      "text/plain": [
       "<matplotlib.collections.PathCollection at 0x7f7ed9127290>"
      ]
     },
     "execution_count": 93,
     "metadata": {},
     "output_type": "execute_result"
    },
    {
     "data": {
      "image/png": "[encoded data removed]",
      "text/plain": [
       "<Figure size 432x288 with 1 Axes>"
      ]
     },
     "metadata": {
      "needs_background": "light"
     },
     "output_type": "display_data"
    }
   ],
   "source": [
    "plt.scatter(X,y)"
   ]
  },
  {
   "cell_type": "code",
   "execution_count": 94,
   "id": "d268149d",
   "metadata": {},
   "outputs": [],
   "source": [
    "X_train, X_test, y_train, y_test = train_test_split(X, y, random_state=1)"
   ]
  },
  {
   "cell_type": "code",
   "execution_count": 95,
   "id": "7c99d43b",
   "metadata": {},
   "outputs": [],
   "source": [
    "from sklearn.linear_model import LinearRegression\n",
    "\n",
    "model_lr = LinearRegression()"
   ]
  },
  {
   "cell_type": "code",
   "execution_count": 96,
   "id": "c1b0473b",
   "metadata": {},
   "outputs": [
    {
     "data": {
      "text/plain": [
       "LinearRegression()"
      ]
     },
     "execution_count": 96,
     "metadata": {},
     "output_type": "execute_result"
    }
   ],
   "source": [
    "model_lr.fit(X_train, y_train)"
   ]
  },
  {
   "cell_type": "code",
   "execution_count": 97,
   "id": "29164ac6",
   "metadata": {},
   "outputs": [],
   "source": [
    "y_pred = model_lr.predict(X_test)"
   ]
  },
  {
   "cell_type": "code",
   "execution_count": 98,
   "id": "4ccdede2",
   "metadata": {},
   "outputs": [
    {
     "data": {
      "text/plain": [
       "59665.23907372321"
      ]
     },
     "execution_count": 98,
     "metadata": {},
     "output_type": "execute_result"
    }
   ],
   "source": [
    "mean_squared_error(y_test, y_pred)"
   ]
  },
  {
   "cell_type": "code",
   "execution_count": 99,
   "id": "f03adabe",
   "metadata": {},
   "outputs": [
    {
     "data": {
      "text/plain": [
       "0.5828927633087315"
      ]
     },
     "execution_count": 99,
     "metadata": {},
     "output_type": "execute_result"
    }
   ],
   "source": [
    "r2_score(y_test, y_pred)"
   ]
  },
  {
   "cell_type": "code",
   "execution_count": 100,
   "id": "3608c282",
   "metadata": {},
   "outputs": [],
   "source": [
    "# Time Series"
   ]
  },
  {
   "cell_type": "code",
   "execution_count": 102,
   "id": "ee1ea9ca",
   "metadata": {},
   "outputs": [],
   "source": [
    "weather_df = pd.read_csv(\"weather_data_austin_2010.csv\", parse_dates=True, infer_datetime_format=True, index_col = \"Date\")"
   ]
  },
  {
   "cell_type": "code",
   "execution_count": 104,
   "id": "1aa5b970",
   "metadata": {},
   "outputs": [
    {
     "data": {
      "text/html": [
       "<div>\n",
       "<style scoped>\n",
       "    .dataframe tbody tr th:only-of-type {\n",
       "        vertical-align: middle;\n",
       "    }\n",
       "\n",
       "    .dataframe tbody tr th {\n",
       "        vertical-align: top;\n",
       "    }\n",
       "\n",
       "    .dataframe thead th {\n",
       "        text-align: right;\n",
       "    }\n",
       "</style>\n",
       "<table border=\"1\" class=\"dataframe\">\n",
       "  <thead>\n",
       "    <tr style=\"text-align: right;\">\n",
       "      <th></th>\n",
       "      <th>Temperature</th>\n",
       "      <th>DewPoint</th>\n",
       "      <th>Pressure</th>\n",
       "    </tr>\n",
       "    <tr>\n",
       "      <th>Date</th>\n",
       "      <th></th>\n",
       "      <th></th>\n",
       "      <th></th>\n",
       "    </tr>\n",
       "  </thead>\n",
       "  <tbody>\n",
       "    <tr>\n",
       "      <th>2010-01-01 00:00:00</th>\n",
       "      <td>46.2</td>\n",
       "      <td>37.5</td>\n",
       "      <td>1.0</td>\n",
       "    </tr>\n",
       "    <tr>\n",
       "      <th>2010-01-01 01:00:00</th>\n",
       "      <td>44.6</td>\n",
       "      <td>37.1</td>\n",
       "      <td>1.0</td>\n",
       "    </tr>\n",
       "    <tr>\n",
       "      <th>2010-01-01 02:00:00</th>\n",
       "      <td>44.1</td>\n",
       "      <td>36.9</td>\n",
       "      <td>1.0</td>\n",
       "    </tr>\n",
       "    <tr>\n",
       "      <th>2010-01-01 03:00:00</th>\n",
       "      <td>43.8</td>\n",
       "      <td>36.9</td>\n",
       "      <td>1.0</td>\n",
       "    </tr>\n",
       "    <tr>\n",
       "      <th>2010-01-01 04:00:00</th>\n",
       "      <td>43.5</td>\n",
       "      <td>36.8</td>\n",
       "      <td>1.0</td>\n",
       "    </tr>\n",
       "  </tbody>\n",
       "</table>\n",
       "</div>"
      ],
      "text/plain": [
       "                     Temperature  DewPoint  Pressure\n",
       "Date                                                \n",
       "2010-01-01 00:00:00         46.2      37.5       1.0\n",
       "2010-01-01 01:00:00         44.6      37.1       1.0\n",
       "2010-01-01 02:00:00         44.1      36.9       1.0\n",
       "2010-01-01 03:00:00         43.8      36.9       1.0\n",
       "2010-01-01 04:00:00         43.5      36.8       1.0"
      ]
     },
     "execution_count": 104,
     "metadata": {},
     "output_type": "execute_result"
    }
   ],
   "source": [
    "weather_df.head()"
   ]
  },
  {
   "cell_type": "code",
   "execution_count": null,
   "id": "726f7cb1",
   "metadata": {},
   "outputs": [],
   "source": [
    "X = weather_df[\"Temperature\"].loc[\"2010 May\":\"2010 Jul\"].to_frame()"
   ]
  },
  {
   "cell_type": "code",
   "execution_count": 110,
   "id": "dffe7581",
   "metadata": {},
   "outputs": [
    {
     "name": "stderr",
     "output_type": "stream",
     "text": [
      "/Users/tompankratz/opt/anaconda3/envs/mlenv/lib/python3.7/site-packages/ipykernel_launcher.py:1: FutureWarning: weekofyear and week have been deprecated, please use DatetimeIndex.isocalendar().week instead, which returns a Series.  To exactly reproduce the behavior of week and weekofyear and return an Index, you may call pd.Int64Index(idx.isocalendar().week)\n",
      "  \"\"\"Entry point for launching an IPython kernel.\n"
     ]
    }
   ],
   "source": [
    "X[\"week_of_year\"] = X.index.weekofyear"
   ]
  },
  {
   "cell_type": "code",
   "execution_count": 112,
   "id": "4c1c0de0",
   "metadata": {},
   "outputs": [
    {
     "data": {
      "text/plain": [
       "array([17, 18, 19, 20, 21, 22, 23, 24, 25, 26, 27, 28, 29, 30])"
      ]
     },
     "execution_count": 112,
     "metadata": {},
     "output_type": "execute_result"
    }
   ],
   "source": [
    "X[\"week_of_year\"].unique()"
   ]
  },
  {
   "cell_type": "code",
   "execution_count": 115,
   "id": "09825cad",
   "metadata": {},
   "outputs": [],
   "source": [
    "X_encoded = pd.get_dummies(X, columns = [\"week_of_year\"], drop_first=True)"
   ]
  },
  {
   "cell_type": "code",
   "execution_count": 118,
   "id": "bfe80235",
   "metadata": {},
   "outputs": [],
   "source": [
    "X = X_encoded.drop(\"Temperature\", axis = 1)"
   ]
  },
  {
   "cell_type": "code",
   "execution_count": 120,
   "id": "8cf76e62",
   "metadata": {},
   "outputs": [],
   "source": [
    "y = X_encoded [\"Temperature\"]"
   ]
  },
  {
   "cell_type": "code",
   "execution_count": 121,
   "id": "c34b855a",
   "metadata": {},
   "outputs": [],
   "source": [
    "from sklearn.linear_model import LinearRegression\n",
    "\n",
    "model_lr = LinearRegression()"
   ]
  },
  {
   "cell_type": "code",
   "execution_count": 122,
   "id": "838fa90b",
   "metadata": {},
   "outputs": [
    {
     "data": {
      "text/plain": [
       "LinearRegression()"
      ]
     },
     "execution_count": 122,
     "metadata": {},
     "output_type": "execute_result"
    }
   ],
   "source": [
    "model_lr.fit(X,y)"
   ]
  },
  {
   "cell_type": "code",
   "execution_count": 123,
   "id": "c28ab8c2",
   "metadata": {},
   "outputs": [],
   "source": [
    "y_pred = model_lr.predict(X)"
   ]
  },
  {
   "cell_type": "code",
   "execution_count": 124,
   "id": "37380676",
   "metadata": {},
   "outputs": [
    {
     "data": {
      "text/plain": [
       "array([72.425     , 72.425     , 72.425     , ..., 84.11041667,\n",
       "       84.11041667, 84.11041667])"
      ]
     },
     "execution_count": 124,
     "metadata": {},
     "output_type": "execute_result"
    }
   ],
   "source": [
    "y_pred"
   ]
  },
  {
   "cell_type": "code",
   "execution_count": 125,
   "id": "c73e40a1",
   "metadata": {},
   "outputs": [],
   "source": [
    "import statsmodels.formula.api as smf"
   ]
  },
  {
   "cell_type": "code",
   "execution_count": 127,
   "id": "03256dad",
   "metadata": {},
   "outputs": [],
   "source": [
    "model_ols = smf.ols(\"y ~ X\", data = weather_df.loc[\"2010 May\":\"2010 Jul\"])"
   ]
  },
  {
   "cell_type": "code",
   "execution_count": 128,
   "id": "10acd69a",
   "metadata": {},
   "outputs": [],
   "source": [
    "model_ols_fitted = model_ols.fit()"
   ]
  },
  {
   "cell_type": "code",
   "execution_count": 134,
   "id": "0b764199",
   "metadata": {},
   "outputs": [
    {
     "name": "stdout",
     "output_type": "stream",
     "text": [
      "                            OLS Regression Results                            \n",
      "==============================================================================\n",
      "Dep. Variable:            Temperature   R-squared:                       0.237\n",
      "Model:                            OLS   Adj. R-squared:                  0.232\n",
      "Method:                 Least Squares   F-statistic:                     52.41\n",
      "Date:                Tue, 19 Apr 2022   Prob (F-statistic):          1.00e-118\n",
      "Time:                        20:37:16   Log-Likelihood:                -7225.2\n",
      "No. Observations:                2208   AIC:                         1.448e+04\n",
      "Df Residuals:                    2194   BIC:                         1.456e+04\n",
      "Df Model:                          13                                         \n",
      "Covariance Type:            nonrobust                                         \n",
      "===================================================================================\n",
      "                      coef    std err          t      P>|t|      [0.025      0.975]\n",
      "-----------------------------------------------------------------------------------\n",
      "intercept          72.4250      0.924     78.386      0.000      70.613      74.237\n",
      "week_of_year_18     1.1065      1.048      1.056      0.291      -0.948       3.161\n",
      "week_of_year_19     2.3214      1.048      2.216      0.027       0.267       4.376\n",
      "week_of_year_20     3.6208      1.048      3.456      0.001       1.566       5.675\n",
      "week_of_year_21     5.3143      1.048      5.073      0.000       3.260       7.369\n",
      "week_of_year_22     6.7774      1.048      6.469      0.000       4.723       8.832\n",
      "week_of_year_23     8.0839      1.048      7.716      0.000       6.029      10.138\n",
      "week_of_year_24     8.9887      1.048      8.580      0.000       6.934      11.043\n",
      "week_of_year_25     9.5149      1.048      9.082      0.000       7.460      11.569\n",
      "week_of_year_26     9.8732      1.048      9.424      0.000       7.819      11.928\n",
      "week_of_year_27    10.5018      1.048     10.024      0.000       8.447      12.556\n",
      "week_of_year_28    10.9768      1.048     10.477      0.000       8.922      13.031\n",
      "week_of_year_29    11.2018      1.048     10.692      0.000       9.147      13.256\n",
      "week_of_year_30    11.6854      1.067     10.953      0.000       9.593      13.778\n",
      "==============================================================================\n",
      "Omnibus:                    15141.750   Durbin-Watson:                   0.076\n",
      "Prob(Omnibus):                  0.000   Jarque-Bera (JB):              209.725\n",
      "Skew:                           0.141   Prob(JB):                     2.88e-46\n",
      "Kurtosis:                       1.517   Cond. No.                         26.5\n",
      "==============================================================================\n",
      "\n",
      "Notes:\n",
      "[1] Standard Errors assume that the covariance matrix of the errors is correctly specified.\n"
     ]
    }
   ],
   "source": [
    "print(model_ols_fitted.summary(xname = [\"intercept\"] + [x for x in X], yname=\"Temperature\"))"
   ]
  },
  {
   "cell_type": "code",
   "execution_count": 135,
   "id": "a26fdfbf",
   "metadata": {},
   "outputs": [],
   "source": [
    "# Logistic Regression (Classification)"
   ]
  },
  {
   "cell_type": "code",
   "execution_count": null,
   "id": "0b6a085f",
   "metadata": {},
   "outputs": [],
   "source": [
    "# It's called Logistic Regression, but it's actually Logistic Classification"
   ]
  },
  {
   "cell_type": "code",
   "execution_count": null,
   "id": "114477de",
   "metadata": {},
   "outputs": [],
   "source": [
    "# Learning rate = step size, as you're descending down the mountain, to find the low point"
   ]
  },
  {
   "cell_type": "code",
   "execution_count": 136,
   "id": "bc542589",
   "metadata": {},
   "outputs": [],
   "source": [
    "from sklearn.datasets import make_blobs"
   ]
  },
  {
   "cell_type": "code",
   "execution_count": 137,
   "id": "483fcc26",
   "metadata": {},
   "outputs": [],
   "source": [
    "X,y = make_blobs(centers = 2, random_state=1)"
   ]
  },
  {
   "cell_type": "code",
   "execution_count": 138,
   "id": "d5783ce1",
   "metadata": {},
   "outputs": [
    {
     "data": {
      "text/plain": [
       "array([0, 1, 0, 0, 1, 1, 1, 1, 0, 0, 1, 0, 1, 0, 1, 1, 1, 0, 0, 1, 1, 1,\n",
       "       1, 0, 0, 1, 1, 0, 0, 1, 0, 0, 1, 0, 1, 1, 0, 1, 1, 1, 1, 1, 0, 1,\n",
       "       0, 1, 0, 0, 0, 0, 0, 1, 1, 1, 0, 1, 0, 1, 0, 0, 0, 1, 1, 1, 1, 1,\n",
       "       0, 1, 0, 0, 1, 1, 1, 0, 0, 0, 1, 1, 0, 0, 0, 1, 0, 1, 0, 0, 0, 0,\n",
       "       0, 0, 1, 0, 0, 0, 1, 1, 1, 0, 1, 0])"
      ]
     },
     "execution_count": 138,
     "metadata": {},
     "output_type": "execute_result"
    }
   ],
   "source": [
    "y"
   ]
  },
  {
   "cell_type": "code",
   "execution_count": 139,
   "id": "db132a6a",
   "metadata": {},
   "outputs": [
    {
     "data": {
      "text/plain": [
       "<matplotlib.collections.PathCollection at 0x7f7ed918d350>"
      ]
     },
     "execution_count": 139,
     "metadata": {},
     "output_type": "execute_result"
    },
    {
     "data": {
      "image/png": "[encoded data removed]",
      "text/plain": [
       "<Figure size 432x288 with 1 Axes>"
      ]
     },
     "metadata": {
      "needs_background": "light"
     },
     "output_type": "display_data"
    }
   ],
   "source": [
    "plt.scatter(X[:,0], X[:,1], c = y)"
   ]
  },
  {
   "cell_type": "code",
   "execution_count": 140,
   "id": "54d82fcd",
   "metadata": {},
   "outputs": [],
   "source": [
    "X_train, X_test, y_train, y_test = train_test_split(X, y, random_state=1)"
   ]
  },
  {
   "cell_type": "code",
   "execution_count": 141,
   "id": "5476d9ac",
   "metadata": {},
   "outputs": [],
   "source": [
    "from sklearn.linear_model import LogisticRegression"
   ]
  },
  {
   "cell_type": "code",
   "execution_count": 142,
   "id": "7621ebb3",
   "metadata": {},
   "outputs": [],
   "source": [
    "model_logit = LogisticRegression()"
   ]
  },
  {
   "cell_type": "code",
   "execution_count": 143,
   "id": "b7c3271b",
   "metadata": {},
   "outputs": [
    {
     "data": {
      "text/plain": [
       "LogisticRegression()"
      ]
     },
     "execution_count": 143,
     "metadata": {},
     "output_type": "execute_result"
    }
   ],
   "source": [
    "model_logit"
   ]
  },
  {
   "cell_type": "code",
   "execution_count": 144,
   "id": "fdd55b30",
   "metadata": {},
   "outputs": [
    {
     "data": {
      "text/plain": [
       "LogisticRegression()"
      ]
     },
     "execution_count": 144,
     "metadata": {},
     "output_type": "execute_result"
    }
   ],
   "source": [
    "model_logit.fit(X_train, y_train)"
   ]
  },
  {
   "cell_type": "code",
   "execution_count": 145,
   "id": "da2f67c5",
   "metadata": {},
   "outputs": [
    {
     "data": {
      "text/plain": [
       "1.0"
      ]
     },
     "execution_count": 145,
     "metadata": {},
     "output_type": "execute_result"
    }
   ],
   "source": [
    "model_logit.score(X_train, y_train)"
   ]
  },
  {
   "cell_type": "code",
   "execution_count": 146,
   "id": "e21db4c7",
   "metadata": {},
   "outputs": [
    {
     "data": {
      "text/plain": [
       "1.0"
      ]
     },
     "execution_count": 146,
     "metadata": {},
     "output_type": "execute_result"
    }
   ],
   "source": [
    "model_logit.score(X_test, y_test)"
   ]
  },
  {
   "cell_type": "code",
   "execution_count": 147,
   "id": "7d596cf0",
   "metadata": {},
   "outputs": [],
   "source": [
    "# Create a new data"
   ]
  },
  {
   "cell_type": "code",
   "execution_count": 154,
   "id": "bd1c1e9d",
   "metadata": {},
   "outputs": [],
   "source": [
    "new_data_point = np.array([[-6,-2]])"
   ]
  },
  {
   "cell_type": "code",
   "execution_count": 155,
   "id": "029fffdc",
   "metadata": {},
   "outputs": [
    {
     "data": {
      "text/plain": [
       "<matplotlib.collections.PathCollection at 0x7f7ed9facf10>"
      ]
     },
     "execution_count": 155,
     "metadata": {},
     "output_type": "execute_result"
    },
    {
     "data": {
      "image/png": "[encoded data removed]",
      "text/plain": [
       "<Figure size 432x288 with 1 Axes>"
      ]
     },
     "metadata": {
      "needs_background": "light"
     },
     "output_type": "display_data"
    }
   ],
   "source": [
    "plt.scatter(X[:,0], X[:,1], c = y)\n",
    "plt.scatter(new_data_point[0,0], new_data_point[0,1], c = \"r\", marker = \"o\", s=100)"
   ]
  },
  {
   "cell_type": "code",
   "execution_count": 156,
   "id": "cc9fc38f",
   "metadata": {},
   "outputs": [],
   "source": [
    "y_pred = model_logit.predict(new_data_point)"
   ]
  },
  {
   "cell_type": "code",
   "execution_count": 157,
   "id": "2b71b4af",
   "metadata": {},
   "outputs": [
    {
     "data": {
      "text/plain": [
       "array([1])"
      ]
     },
     "execution_count": 157,
     "metadata": {},
     "output_type": "execute_result"
    }
   ],
   "source": [
    "y_pred"
   ]
  },
  {
   "cell_type": "code",
   "execution_count": 153,
   "id": "0e079745",
   "metadata": {},
   "outputs": [
    {
     "data": {
      "text/plain": [
       "array([-0.79415228,  2.10495117])"
      ]
     },
     "execution_count": 153,
     "metadata": {},
     "output_type": "execute_result"
    }
   ],
   "source": [
    "X[0]"
   ]
  },
  {
   "cell_type": "code",
   "execution_count": null,
   "id": "6f3f5494",
   "metadata": {},
   "outputs": [],
   "source": []
  },
  {
   "cell_type": "code",
   "execution_count": null,
   "id": "0b7102b4",
   "metadata": {},
   "outputs": [],
   "source": []
  },
  {
   "cell_type": "code",
   "execution_count": null,
   "id": "8842e3de",
   "metadata": {},
   "outputs": [],
   "source": []
  },
  {
   "cell_type": "code",
   "execution_count": null,
   "id": "eb53e55c",
   "metadata": {},
   "outputs": [],
   "source": []
  },
  {
   "cell_type": "code",
   "execution_count": null,
   "id": "00e0955d",
   "metadata": {},
   "outputs": [],
   "source": []
  },
  {
   "cell_type": "code",
   "execution_count": null,
   "id": "8410af6e",
   "metadata": {},
   "outputs": [],
   "source": []
  },
  {
   "cell_type": "code",
   "execution_count": null,
   "id": "6309fca8",
   "metadata": {},
   "outputs": [],
   "source": []
  }
 ],
 "metadata": {
  "kernelspec": {
   "display_name": "Python 3 (ipykernel)",
   "language": "python",
   "name": "python3"
  },
  "language_info": {
   "codemirror_mode": {
    "name": "ipython",
    "version": 3
   },
   "file_extension": ".py",
   "mimetype": "text/x-python",
   "name": "python",
   "nbconvert_exporter": "python",
   "pygments_lexer": "ipython3",
   "version": "3.7.11"
  }
 },
 "nbformat": 4,
 "nbformat_minor": 5
}
